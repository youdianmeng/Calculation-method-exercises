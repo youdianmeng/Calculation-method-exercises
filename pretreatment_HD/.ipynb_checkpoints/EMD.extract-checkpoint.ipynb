{
 "cells": [
  {
   "cell_type": "code",
   "execution_count": 5,
   "metadata": {},
   "outputs": [],
   "source": [
    "import pandas as pd\n",
    "import numpy as np\n",
    "from PyEMD import EMD\n",
    "\n"
   ]
  },
  {
   "cell_type": "code",
   "execution_count": 7,
   "metadata": {},
   "outputs": [
    {
     "name": "stderr",
     "output_type": "stream",
     "text": [
      "C:\\Users\\user 1\\AppData\\Local\\Temp\\ipykernel_7636\\3415388368.py:1: DtypeWarning: Columns (0,1,2,3,4,5,6,7,8) have mixed types. Specify dtype option on import or set low_memory=False.\n",
      "  data = pd.read_csv('E:\\Data\\SEU Dataset\\gearbox\\gearset\\Health_20_0.csv', header=None, sep='\\t')\n"
     ]
    },
    {
     "data": {
      "text/plain": [
       "<bound method DataFrame.info of                    0                 1         2         3         4  \\\n",
       "0             Title:  Health_20_0_1-10       NaN       NaN       NaN   \n",
       "1        Parameters:               NaN       NaN       NaN       NaN   \n",
       "2                NaN               NaN       NaN       NaN       NaN   \n",
       "3                DAQ         Settings:       NaN       NaN       NaN   \n",
       "4          Frequency             Limit      2000       NaN       NaN   \n",
       "...              ...               ...       ...       ...       ...   \n",
       "1048571    -0.118769         -0.005163  0.001653  0.001856  0.000157   \n",
       "1048572    -0.128332         -0.004665  0.002353  0.003437  -0.01549   \n",
       "1048573    -0.136223         -0.009519  0.002542  0.010141 -0.018238   \n",
       "1048574    -0.129154         -0.009055  0.000265 -0.000381 -0.005773   \n",
       "1048575    -0.129869         -0.002224 -0.001721  0.005803   0.00427   \n",
       "\n",
       "                5         6         7    8  \n",
       "0             NaN       NaN       NaN  NaN  \n",
       "1             NaN       NaN       NaN  NaN  \n",
       "2             NaN       NaN       NaN  NaN  \n",
       "3             NaN       NaN       NaN  NaN  \n",
       "4             NaN       NaN       NaN  NaN  \n",
       "...           ...       ...       ...  ...  \n",
       "1048571 -0.011981 -0.004529  0.015217  NaN  \n",
       "1048572  0.000325 -0.008388  0.005261  NaN  \n",
       "1048573 -0.001403 -0.000106 -0.007623  NaN  \n",
       "1048574 -0.004817 -0.004015 -0.005029  NaN  \n",
       "1048575 -0.008503 -0.008149  0.005164  NaN  \n",
       "\n",
       "[1048576 rows x 9 columns]>"
      ]
     },
     "execution_count": 7,
     "metadata": {},
     "output_type": "execute_result"
    }
   ],
   "source": [
    "data = pd.read_csv('E:\\Data\\SEU Dataset\\gearbox\\gearset\\Health_20_0.csv', header=None, sep='\\t')\n",
    "data.info\n",
    "\n",
    "\n"
   ]
  },
  {
   "cell_type": "code",
   "execution_count": null,
   "metadata": {},
   "outputs": [],
   "source": [
    "Data = data.iloc[16:,:-1].values"
   ]
  }
 ],
 "metadata": {
  "kernelspec": {
   "display_name": "Python 3 (ipykernel)",
   "language": "python",
   "name": "python3"
  },
  "language_info": {
   "codemirror_mode": {
    "name": "ipython",
    "version": 3
   },
   "file_extension": ".py",
   "mimetype": "text/x-python",
   "name": "python",
   "nbconvert_exporter": "python",
   "pygments_lexer": "ipython3",
   "version": "3.11.5"
  }
 },
 "nbformat": 4,
 "nbformat_minor": 2
}
