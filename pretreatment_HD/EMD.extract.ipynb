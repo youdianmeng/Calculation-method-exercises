{
 "cells": [
  {
   "cell_type": "code",
   "execution_count": null,
   "metadata": {},
   "outputs": [],
   "source": [
    "from IPython import get_ipython\n",
    "get_ipython().magic('reset -sf')"
   ]
  },
  {
   "cell_type": "code",
   "execution_count": null,
   "metadata": {},
   "outputs": [],
   "source": [
    "import pandas as pd\n",
    "import numpy as np\n",
    "import os\n",
    "import glob"
   ]
  },
  {
   "cell_type": "code",
   "execution_count": null,
   "metadata": {},
   "outputs": [],
   "source": [
    "## 提取有效数据\n",
    "# 源文件夹路径\n",
    "source_folder = 'F:\\Dateset\\SEU_dataset\\gearbox\\gearset'\n",
    "csv_files = glob.glob(os.path.join(source_folder, '*_20_0.csv')) # 返回的是地址！！\n",
    "# 目标文件夹路径\n",
    "destination_folder = 'F:\\python_learning\\Calculation-method-exercises\\pretreatment_HD\\SEU_ed' #注意更改路径\n",
    "\n",
    "    "
   ]
  },
  {
   "cell_type": "code",
   "execution_count": null,
   "metadata": {},
   "outputs": [],
   "source": [
    "# 确保目标文件夹存在\n",
    "os.makedirs(destination_folder, exist_ok=True)\n",
    "\n",
    "# 遍历源文件夹中的每个文件\n",
    "for file_path in csv_files:\n",
    "    \n",
    "    # 读取文件内容（假设是csv格式）\n",
    "    data = pd.read_csv(file_path, header=None, low_memory=False, sep='\\t')\n",
    "    \n",
    "    # 在这里添加你的数据处理代码\n",
    "    columns = ('motor vibration', 'x-planetary gearbox', 'y-planetary gearbox', 'z-planetary gearbox',\n",
    "            'motor torque', 'x-parallel gearbox', 'y-parallel gearbox', 'z-parallel gearbox')\n",
    "    Data = data.iloc[16:, :-1]\n",
    "    Data.columns = columns\n",
    "    \n",
    "    # 获取源文件的文件名\n",
    "    filename = os.path.basename(file_path)\n",
    "    \n",
    "    # 为输出文件生成路径\n",
    "    output_file_path = os.path.join(destination_folder, filename)\n",
    "    \n",
    "    # 将处理后的数据保存到输出文件中\n",
    "    Data.to_csv(output_file_path, index=False, sep='\\t')"
   ]
  },
  {
   "cell_type": "markdown",
   "metadata": {},
   "source": [
    "```\n",
    "files = glob.glob(os.path.join(destination_folder, '*'))\n",
    "\n",
    "# 遍历每个文件\n",
    "for file_path in files:\n",
    "    # 删除文件\n",
    "    os.remove(file_path)\n",
    "```"
   ]
  },
  {
   "cell_type": "code",
   "execution_count": null,
   "metadata": {},
   "outputs": [],
   "source": [
    "df = pd.read_csv('F:\\python_learning\\Calculation-method-exercises\\pretreatment_HD\\SEU_ed\\Chipped_20_0.csv', sep='\\t')\n",
    "df.shape"
   ]
  },
  {
   "cell_type": "code",
   "execution_count": null,
   "metadata": {},
   "outputs": [],
   "source": [
    "samples = np.array_split(df, 60) # 分成60个样本\n"
   ]
  },
  {
   "cell_type": "code",
   "execution_count": null,
   "metadata": {},
   "outputs": [],
   "source": [
    "from PyEMD import EMD\n",
    "import pylab as plt"
   ]
  },
  {
   "cell_type": "code",
   "execution_count": null,
   "metadata": {},
   "outputs": [],
   "source": [
    "# Execute EMD on signal\n",
    "s = samples[0].iloc[:, 1].values\n",
    "fs = 5120\n",
    "T = 1/fs\n",
    "num_samples = len(s)\n",
    "t = np.arange(0, num_samples*T, T)\n",
    "\n",
    "IMF = EMD().emd(s)\n",
    "N = IMF.shape[0]+1\n"
   ]
  },
  {
   "cell_type": "code",
   "execution_count": null,
   "metadata": {},
   "outputs": [],
   "source": [
    "N = IMF.shape[0]+1\n",
    "\n",
    "# Plot results\n",
    "plt.subplot(N,1,1)\n",
    "plt.plot(t, s, 'r')\n",
    "plt.title(\"Input signal\")\n",
    "plt.xlabel(\"Time [s]\")\n",
    "\n",
    "for n, imf in enumerate(IMF):\n",
    "    plt.subplot(N,1,n+2)\n",
    "    plt.plot(t, imf, 'g')\n",
    "    plt.title(\"IMF \"+str(n+1))\n",
    "    plt.xlabel(\"Time [s]\")\n",
    "\n",
    "plt.tight_layout()\n",
    "plt.savefig('simple_example')\n",
    "plt.show()"
   ]
  },
  {
   "cell_type": "code",
   "execution_count": null,
   "metadata": {},
   "outputs": [],
   "source": []
  }
 ],
 "metadata": {
  "kernelspec": {
   "display_name": "Python 3 (ipykernel)",
   "language": "python",
   "name": "python3"
  },
  "language_info": {
   "codemirror_mode": {
    "name": "ipython",
    "version": 3
   },
   "file_extension": ".py",
   "mimetype": "text/x-python",
   "name": "python",
   "nbconvert_exporter": "python",
   "pygments_lexer": "ipython3",
   "version": "3.9.13"
  }
 },
 "nbformat": 4,
 "nbformat_minor": 2
}
