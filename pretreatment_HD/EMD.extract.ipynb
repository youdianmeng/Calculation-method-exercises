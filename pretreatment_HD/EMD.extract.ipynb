{
 "cells": [
  {
   "cell_type": "code",
   "execution_count": 61,
   "metadata": {},
   "outputs": [
    {
     "name": "stderr",
     "output_type": "stream",
     "text": [
      "C:\\Users\\user 1\\AppData\\Local\\Temp\\ipykernel_17256\\3700766821.py:2: DeprecationWarning: `magic(...)` is deprecated since IPython 0.13 (warning added in 8.1), use run_line_magic(magic_name, parameter_s).\n",
      "  get_ipython().magic('reset -sf')\n"
     ]
    }
   ],
   "source": [
    "from IPython import get_ipython\n",
    "get_ipython().magic('reset -sf')"
   ]
  },
  {
   "cell_type": "code",
   "execution_count": 62,
   "metadata": {},
   "outputs": [],
   "source": [
    "import pandas as pd\n",
    "import numpy as np\n",
    "import os\n",
    "import glob"
   ]
  },
  {
   "cell_type": "code",
   "execution_count": 63,
   "metadata": {},
   "outputs": [],
   "source": [
    "# 源文件夹路径\n",
    "source_folder = 'E:\\Data\\SEU_Dataset\\gearbox\\gearset'\n",
    "csv_files = glob.glob(os.path.join(source_folder, '*.csv'))\n",
    "# 目标文件夹路径\n",
    "destination_folder = 'E:\\git_respo\\Calculation-method-exercises\\pretreatment_HD\\SEU_ed'\n",
    "\n",
    "# 确保目标文件夹存在\n",
    "os.makedirs(destination_folder, exist_ok=True)\n",
    "\n",
    "# 遍历源文件夹中的每个文件\n",
    "for filename in csv_files:\n",
    "    file_path = os.path.join(source_folder, filename)\n",
    "    \n",
    "    # 读取文件内容（假设是csv格式）\n",
    "    data = pd.read_csv(file_path, header=None, low_memory=False, sep='\\t')\n",
    "    \n",
    "    # 在这里添加你的数据处理代码\n",
    "    columns = ('motor vibration', 'x-planetary gearbox', 'y-planetary gearbox', 'z-planetary gearbox',\n",
    "            'motor torque', 'x-parallel gearbox', 'y-parallel gearbox', 'z-parallel gearbox')\n",
    "    Data = data.iloc[16:, :]\n",
    "    Data.columns = columns\n",
    "    # 为输出文件生成路径\n",
    "    output_file_path = os.path.join(destination_folder, filename)\n",
    "    \n",
    "    # 将处理后的数据保存到输出文件中\n",
    "    Data.to_csv(output_file_path, index=False, sep='\\t')\n",
    "\n",
    "    "
   ]
  }
 ],
 "metadata": {
  "kernelspec": {
   "display_name": "Python 3 (ipykernel)",
   "language": "python",
   "name": "python3"
  },
  "language_info": {
   "codemirror_mode": {
    "name": "ipython",
    "version": 3
   },
   "file_extension": ".py",
   "mimetype": "text/x-python",
   "name": "python",
   "nbconvert_exporter": "python",
   "pygments_lexer": "ipython3",
   "version": "3.11.5"
  }
 },
 "nbformat": 4,
 "nbformat_minor": 2
}
