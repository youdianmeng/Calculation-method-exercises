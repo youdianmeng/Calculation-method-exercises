{
 "cells": [
  {
   "cell_type": "code",
   "execution_count": 1,
   "metadata": {},
   "outputs": [],
   "source": [
    "from IPython import get_ipython\n",
    "get_ipython().magic('reset -sf')\n"
   ]
  },
  {
   "cell_type": "code",
   "execution_count": 2,
   "metadata": {},
   "outputs": [],
   "source": [
    "import numpy as np\n",
    "from scipy.io import loadmat\n",
    "import glob\n",
    "import re\n",
    "import os"
   ]
  },
  {
   "cell_type": "code",
   "execution_count": 3,
   "metadata": {},
   "outputs": [],
   "source": [
    "def make_dataset(data_src, num_samples, class_):\n",
    "    \n",
    "    # 获取目标文件夹数据\n",
    "    req_key = \"_DE_time\" \n",
    "    pattern = re.compile(req_key)\n",
    "    files = glob.glob(data_src)\n",
    "    files = np.sort(files)\n",
    "    data = loadmat(files[0])\n",
    "    keysList = [key for key in data]\n",
    "    for key in keysList:\n",
    "        if pattern.search(key):\n",
    "            my_key = key\n",
    "    drive_end_data = data[my_key]\n",
    "    drive_end_data = drive_end_data.reshape(-1) # 变一维\n",
    "    # 分割数据块\n",
    "    num_segments = np.floor(len(drive_end_data)/num_samples)\n",
    "    slices = np.split(drive_end_data[0:int(num_segments*num_samples)], num_samples)\n",
    "    silces = np.array(slices).reshape(int(num_segments), num_samples)\n",
    "    segmented_data = silces\n",
    "    # 预防性操作\n",
    "    files = files[1:]\n",
    "    for file in files:\n",
    "        data = loadmat(file)\n",
    "        keysList = [key for key in data]\n",
    "        for key in keysList:\n",
    "            if pattern.search(key):\n",
    "                my_key = key\n",
    "        drive_end_data = data[my_key]\n",
    "        drive_end_data = drive_end_data.reshape(-1)\n",
    "        num_segments = np.floor(len(drive_end_data)/num_samples)\n",
    "        slices = np.split(drive_end_data[0:int(num_segments*num_samples)], num_samples)\n",
    "        silces = np.array(slices).reshape(int(num_segments), num_samples)\n",
    "        segmented_data = np.concatenate( (segmented_data, silces) , axis=0, out=None)\n",
    "    \n",
    "    segmented_data = np.unique(segmented_data, axis= 0) # remove duplicates\n",
    "    np.random.shuffle( segmented_data) # suffule the data\n",
    "    Class_ = np.ones(len(segmented_data)).astype(int)*class_\n",
    "    \n",
    "    return segmented_data, Class_"
   ]
  },
  {
   "cell_type": "code",
   "execution_count": 4,
   "metadata": {},
   "outputs": [],
   "source": [
    "num_samples = 1200 #样本点数\n",
    "fs = 12000; # 采样频率"
   ]
  },
  {
   "cell_type": "code",
   "execution_count": 5,
   "metadata": {},
   "outputs": [
    {
     "data": {
      "text/plain": [
       "' defc8, y_defc8 = make_dataset(os.path.join(data_path, cls_9), num_samples, 9)\\ndefc9, y_defc9 = make_dataset(os.path.join(data_path, cls_10), num_samples, 10) '"
      ]
     },
     "execution_count": 5,
     "metadata": {},
     "output_type": "execute_result"
    }
   ],
   "source": [
    "data_path = r'F:\\Dateset\\CWRU' # 数据集路径\n",
    "\n",
    "cls_1 = '12K_DE_Normal/*'; \n",
    "cls_2 = '12k_DE_IRFault_0.007/*';   \"\"\" cls_3 = '12k_DE_IRFault_0.014/*';   cls_4 = '12k_DE_IRFault_0.021/*'; \"\"\"  \n",
    "cls_5 = '12k_DE_BallFault_0.007/*';\"\"\"  cls_6 = '12k_DE_BallFault_0.014/*'; cls_7 = '12k_DE_BallFault_0.021/*' \"\"\"\n",
    "\"\"\" cls_8 = '12k_DE_ORFault_0.007/*';   \"\"\" \"\"\" cls_9 = '12k_DE_ORFault_0.014/*';   cls_10 ='12k_DE_ORFault_0.021/*' \"\"\"\n",
    "\n",
    "norm, y_norm = make_dataset(os.path.join(data_path, cls_1), num_samples, 1)\n",
    "defc1, y_defc1 = make_dataset(os.path.join(data_path, cls_2), num_samples, 2)\n",
    "\"\"\" defc2, y_defc2 = make_dataset(os.path.join(data_path, cls_3), num_samples, 3)\n",
    "defc3, y_defc3 = make_dataset(os.path.join(data_path, cls_4), num_samples, 4) \"\"\"\n",
    "defc4, y_defc4 = make_dataset(os.path.join(data_path, cls_5), num_samples, 5)\n",
    "\"\"\" defc5, y_defc5 = make_dataset(os.path.join(data_path, cls_6), num_samples, 6)\n",
    "defc6, y_defc6 = make_dataset(os.path.join(data_path, cls_7), num_samples, 7) \"\"\"\n",
    "\"\"\" defc7, y_defc7 = make_dataset(os.path.join(data_path, cls_8), num_samples, 8) \"\"\"\n",
    "\"\"\" defc8, y_defc8 = make_dataset(os.path.join(data_path, cls_9), num_samples, 9)\n",
    "defc9, y_defc9 = make_dataset(os.path.join(data_path, cls_10), num_samples, 10) \"\"\""
   ]
  },
  {
   "cell_type": "code",
   "execution_count": 6,
   "metadata": {},
   "outputs": [],
   "source": [
    "\"\"\" X = np.concatenate((norm, defc1, defc2, defc3, defc4, defc5, defc6, defc7, defc8, defc9), axis=0, out=None)\n",
    "Y = np.concatenate((y_norm, y_defc1, y_defc2, y_defc3, y_defc4, y_defc5, \n",
    "                    y_defc6, y_defc7, y_defc8, y_defc9), axis=0, out=None)\n",
    " \"\"\"\n",
    "X = np.concatenate((norm, defc1, defc4), axis=0, out=None)\n",
    "Y = np.concatenate((y_norm, y_defc1, y_defc4), axis=0, out=None)"
   ]
  },
  {
   "cell_type": "code",
   "execution_count": 7,
   "metadata": {},
   "outputs": [],
   "source": [
    "import pywt\n",
    "from scipy.fftpack import fft\n",
    "import matplotlib.pyplot as plt"
   ]
  },
  {
   "cell_type": "code",
   "execution_count": 8,
   "metadata": {},
   "outputs": [],
   "source": [
    "def apply_fft(x, fs, num_samples):\n",
    "    f = np.linspace(0.0, (fs/2.0), num_samples//2)\n",
    "    freq_values = fft(x)\n",
    "    freq_values = 2.0/num_samples * np.abs(freq_values[0:num_samples//2])\n",
    "    return f, freq_values"
   ]
  },
  {
   "cell_type": "code",
   "execution_count": 9,
   "metadata": {},
   "outputs": [],
   "source": [
    "wavelet_function = \"db4\"\n",
    "num_levels = 3 # \n",
    "m = 1 # \n",
    "\n",
    "num_features = 2**num_levels\n",
    "features = np.repeat(np.nan, len(X)*m*num_features).reshape(len(X),m*num_features)\n",
    "\n",
    "for i in range(len(X)):    \n",
    "    wp = pywt.WaveletPacket(X[i], wavelet = wavelet_function, maxlevel = num_levels) # Wavelet packet transformation\n",
    "    packet_names = [node.path for node in wp.get_level(num_levels, \"natural\")]\n",
    "    for j in range(num_features):\n",
    "        new_wp = pywt.WaveletPacket(data = None, wavelet = wavelet_function, maxlevel = num_levels)\n",
    "        new_wp[packet_names[j]] = wp[packet_names[j]].data\n",
    "        reconstructed_signal = new_wp.reconstruct(update = False) # Signal reconstruction from wavelet packet coefficients\n",
    "        f, c = apply_fft(reconstructed_signal, fs, len(reconstructed_signal))\n",
    "        z = abs(c)\n",
    "        \n",
    "        maximal_idx = np.argpartition(z, -m)[-m:]\n",
    "        high_amp = z[maximal_idx]\n",
    "        high_freq = f[maximal_idx]\n",
    "        feature = high_amp*high_freq\n",
    "        \n",
    "        l = 0\n",
    "        for f in feature:\n",
    "            features[i,j*m+l] = f\n",
    "            l = l+1"
   ]
  },
  {
   "cell_type": "code",
   "execution_count": 10,
   "metadata": {},
   "outputs": [
    {
     "data": {
      "image/png": "[encoded data removed]",
      "text/plain": [
       "<Figure size 640x480 with 1 Axes>"
      ]
     },
     "metadata": {},
     "output_type": "display_data"
    }
   ],
   "source": [
    "plt.rc('font', size=20)\n",
    "X_Labels = ['F1','F2','F3','F4','F5','F6','F7','F8']\n",
    "plt.bar(X_Labels, features[0], 0.7)#,  size=15)\n",
    "plt.show()"
   ]
  },
  {
   "cell_type": "code",
   "execution_count": 11,
   "metadata": {},
   "outputs": [],
   "source": [
    "import pandas as pd\n",
    "from sklearn.model_selection import GridSearchCV, train_test_split\n",
    "from sklearn.preprocessing import StandardScaler\n",
    "from sklearn.base import BaseEstimator, ClassifierMixin\n",
    "from scipy.optimize import minimize, LinearConstraint, NonlinearConstraint\n",
    "import pickle\n",
    "from sklearn.metrics import accuracy_score, confusion_matrix, f1_score\n",
    "import seaborn as sns"
   ]
  },
  {
   "cell_type": "code",
   "execution_count": 12,
   "metadata": {},
   "outputs": [],
   "source": [
    "## 划分测试集和训练集\n",
    "train_ratio = 0.8 # 训练集比例\n",
    "\n",
    "\"\"\" data = pd.read_csv('seeds_dataset.txt', header=None, delim_whitespace=True) # delim_whitespace=True表示分割符为空白字符\n",
    "data.info\n",
    "Data = data.iloc[:, :-1].values\n",
    "labels = data.iloc[:, -1].values\n",
    "\n",
    "# 划分\n",
    "X_train, X_test, Y_train, Y_test = train_test_split(Data, labels, train_size=train_ratio, stratify=labels) \"\"\"\n",
    "\n",
    "labels = pd.Categorical(Y)\n",
    "X_train, X_test, Y_train, Y_test = train_test_split(features, labels, test_size = 0.2, \n",
    "                                            stratify = labels, random_state = 42)\n",
    "\n",
    "# 使用StandardScaler类归一化\n",
    "scaler = StandardScaler()\n",
    "X_train_scaled = scaler.fit_transform(X_train)\n",
    "X_test_scaled = scaler.transform(X_test)\n"
   ]
  },
  {
   "cell_type": "code",
   "execution_count": 13,
   "metadata": {},
   "outputs": [],
   "source": [
    "## 定义超圆盘分类器类\n",
    "class NHCmodel(BaseEstimator, ClassifierMixin):\n",
    "    def __init__(self, sigma=0) -> None:\n",
    "        super().__init__()\n",
    "        self.sigma = sigma\n",
    "        self.classes = 0\n",
    "        self.s_r = {}\n",
    "        self.classifiers = {}\n",
    "        self.predictData = None\n",
    "        self.accuracy = 0\n",
    "\n",
    "    def gaussian_kernel(self, x, y):\n",
    "        return np.exp(-np.linalg.norm(x-y, ord=2, axis=1)**2 / (2 * (self.sigma ** 2)))\n",
    "    \n",
    "    def jacabian1(self, beta, X):\n",
    "        \"\"\"返回超圆盘的对偶问题的目标函数的雅可比矩阵\n",
    "        Args:\n",
    "            beta (ndarray): 为该输入样本集合下的拉格朗日系数\n",
    "            X (ndarray): X为输入样本矩阵, 行为样本个数, 列为样本特征\n",
    "        \"\"\"\n",
    "        return np.sum(X*X, 1)-2*np.sum(X@(X.T*beta), 1)\n",
    "    \n",
    "    def Objective_Function1(self, beta, X):\n",
    "        \"\"\"返回超圆盘的对偶问题的目标函数，在某一拉格朗日系数下的值\n",
    "        Args:\n",
    "            beta (ndarray): 为该输入样本集合下的拉格朗日系数\n",
    "            X (ndarray): X为输入样本矩阵, 行为样本个数, 列为样本特征\n",
    "        \"\"\"\n",
    "        beta = beta.reshape(-1, 1)\n",
    "        # print(X)\n",
    "        return np.sum(beta*np.sum(X*X, 1).reshape(-1, 1))-np.sum((beta*X)@((beta*X).T))\n",
    "    \n",
    "    def Objective_Function2(self, alpha, X_plus, X_minus):\n",
    "        M_plus  =X_plus.shape[0]\n",
    "        alpha_plus = alpha[:M_plus]\n",
    "        alpha_minus = alpha[M_plus:]\n",
    "        M_minus = alpha_minus.shape[0]\n",
    "        result = 0\n",
    "        for i in range(M_plus):\n",
    "            result = result + np.sum(alpha_plus[i]*alpha_plus*self.gaussian_kernel(X_plus[i, :], X_plus))\n",
    "            - 2*np.sum(alpha_plus[i]*alpha_minus*self.gaussian_kernel(X_plus[i, :], X_minus))\n",
    "        for i in range(M_minus):\n",
    "            result = result + np.sum(alpha_minus[i]*alpha_minus*self.gaussian_kernel(X_minus[i, :], X_minus))\n",
    "        return result\n",
    "    \n",
    "    def nonlcon(self, alpha, beta_plus, beta_minus, X_plus, X_minus, r_plus, r_minus):\n",
    "        M_plus  =X_plus.shape[0]\n",
    "        alpha_plus = alpha[:M_plus]\n",
    "        alpha_minus = alpha[M_plus:]\n",
    "        M_minus = alpha_minus.shape[0]\n",
    "        \n",
    "        c = np.zeros((2, 1))\n",
    "        for i in range(M_plus):\n",
    "            c[0] = c[0] + np.sum(alpha_plus[i]*alpha_plus*self.gaussian_kernel(X_plus[i, :],X_plus))\n",
    "            - np.sum(alpha_plus[i]*beta_plus*self.gaussian_kernel(X_plus[i, :], X_plus))\n",
    "            + np.sum(beta_plus[i]*beta_plus*self.gaussian_kernel(X_plus[i, :], X_plus))\n",
    "        c[0] -= r_plus**2\n",
    "        for i in range(M_minus):\n",
    "            c[0] = c[0] + np.sum(alpha_minus[i]*alpha_minus*self.gaussian_kernel(X_minus[i, :],X_minus))\n",
    "            - np.sum(alpha_minus[i]*beta_minus*self.gaussian_kernel(X_minus[i, :], X_minus))\n",
    "            + np.sum(beta_minus[i]*beta_minus*self.gaussian_kernel(X_minus[i, :], X_minus))\n",
    "        c[1] -= r_minus**2\n",
    "        return c.flatten()\n",
    "\n",
    "    def fit(self, X, y):\n",
    "        # 拟合函数\n",
    "        classes = np.unique(y)\n",
    "        Num = np.size(classes)\n",
    "        beta = np.zeros((Num, y.shape[0]))\n",
    "        s_and_r = np.ones((Num, X.shape[1]+1))\n",
    "        # 分类求解超圆盘对偶问题拉格朗日系数，以求解s和r\n",
    "        for i, class_name in enumerate(classes):\n",
    "            Xx = X[y==class_name, :]\n",
    "            M = Xx.shape[0]\n",
    "            # 设定拉格朗日系数beta初值,一个样本一个beta\n",
    "            beta_init = np.ones((M)) / M # 一维数组，但是在优化函数里面需要reshape成二维数组才能运算\n",
    "            # 设线性等式约束\n",
    "            Aeq1 = np.ones((1, M))\n",
    "            beq1 = np.array([1])\n",
    "            linearConstraint1 = LinearConstraint(Aeq1, beq1, beq1)\n",
    "            # 设定beta下界\n",
    "            bounds = [(1e-6, 1) for _ in range(M)] \n",
    "            # 求解beta\n",
    "            result1 = minimize(self.Objective_Function1, beta_init, \n",
    "                            args=(Xx,), method='SLSQP', jac=self.jacabian1, bounds=bounds, constraints=linearConstraint1,\n",
    "                            )\n",
    "            beta[i-1, :M] = result1.x\n",
    "            \n",
    "            s = np.sum(result1.x.reshape(-1, 1)*Xx, 0)\n",
    "            r = np.max(np.linalg.norm(Xx-s, ord=2,axis=1))\n",
    "            s_and_r[i-1, :] = np.concatenate([s, [r]])\n",
    "            \n",
    "            self.s_r = {'s': s,\n",
    "                        'r': r}\n",
    "        # 求解多个分类器的参数，即分类超平面参数，OVO策略\n",
    "        Num_classifier = int(Num*(Num-1)/2)\n",
    "        b_classifier = np.zeros((Num_classifier, 1))\n",
    "        iter = 0\n",
    "        for i in range(Num-1):\n",
    "            for j in range(i+1, Num):\n",
    "                iter += 1\n",
    "                # 获取基本信息\n",
    "                X_plus = X[y==classes[i], :]\n",
    "                X_minus = X[y==classes[j], :]\n",
    "                M_plus = X_plus.shape[0]\n",
    "                M_minus = X_minus.shape[0]\n",
    "                # 设定超平面参数初值，都为列\n",
    "                alpha_plus = np.ones((M_plus)) / M_plus\n",
    "                alpha_minus = np.ones((M_minus)) / M_minus\n",
    "                alpha_init = np.concatenate((alpha_plus, alpha_minus), axis=0)\n",
    "                # 设定线性等式约束\n",
    "                Aeq2 = np.zeros((2, M_plus+M_minus))\n",
    "                Aeq2[0,:M_plus] = 1;\n",
    "                Aeq2[1, M_plus:] = 1\n",
    "                beq2 = np.array([1, 1])\n",
    "                linearConstraint2 = LinearConstraint(Aeq2, beq2, beq2)\n",
    "                # 设定不等式约束\n",
    "                r_plus = s_and_r[i, -1]\n",
    "                r_minus = s_and_r[j, -1]\n",
    "                beta_plus = beta[i, :M_plus]\n",
    "                beta_minus = beta[j, :M_minus]\n",
    "                lb = -np.inf\n",
    "                ub = np.array([0, 0])\n",
    "                # NonlinearConstraint(lambda x: NHCmodel.nonlcon(x, beta_plus, beta_minus, X_plus, X_minus, r_plus_minus), lb, ub)\n",
    "                # 这个和@(beta)Objective_Function1(beta, X),@(beta) 表示输入要优化的值为beta，X不动，异曲同工\n",
    "                nonlinearConstraint =  NonlinearConstraint(lambda x: self.nonlcon(x, beta_plus, beta_minus, X_plus, X_minus, r_plus, r_minus), lb, ub)\n",
    "                constraints = [linearConstraint2, nonlinearConstraint]\n",
    "                # 求解alpha\n",
    "                result2 = minimize(self.Objective_Function2, alpha_init, args=(X_plus, X_minus,),\n",
    "                                   method='SLSQP', constraints=constraints)\n",
    "                alpha = result2.x\n",
    "                alpha_plus = alpha[:M_plus]\n",
    "                alpha_minus = alpha[M_plus:]\n",
    "                # 求解b\n",
    "                for k in range(M_plus):\n",
    "                    b_classifier[iter-1] += np.sum(alpha_plus[k]*alpha_plus*self.gaussian_kernel(X_plus[k, :], X_plus))\n",
    "                for k in range(M_minus):\n",
    "                    b_classifier[iter-1] -= np.sum(alpha_minus[k]*alpha_minus*self.gaussian_kernel(X_minus[k, :], X_minus))\n",
    "                b_classifier[iter-1] = -1/2*b_classifier[iter-1]\n",
    "                b = b_classifier[iter-1]\n",
    "                self.classes = Num\n",
    "                self.classifiers[(classes[i], classes[j])] = {'X+': X_plus,\n",
    "                                                'X-': X_minus,\n",
    "                                                'alpha+': alpha_plus,\n",
    "                                                'alpha-': alpha_minus,\n",
    "                                                'b': b}    \n",
    "        # 保存分类器参数字典\n",
    "        with open('classifiers.pkl', 'wb') as f:\n",
    "            pickle.dump(self.classifiers, f)\n",
    "            \n",
    "        with open('classes.pkl', 'wb') as f:\n",
    "            pickle.dump(self.classes, f)   \n",
    "            \n",
    "        with open('s_r.pkl', 'wb') as f:\n",
    "            pickle.dump(self.s_r, f) \n",
    "            \n",
    "        with open('predictData.pkl', 'wb') as f:\n",
    "            pickle.dump(self.predictData, f)   \n",
    "                             \n",
    "        return 0  \n",
    "                \n",
    "\n",
    "    def predict(self,X):\n",
    "        fx = np.zeros((X.shape[0], self.classes))\n",
    "        indexclasses = 0\n",
    "        fxij = np.zeros((X.shape[0], self.classes))\n",
    "        for (i, j), classifier in self.classifiers.items():\n",
    "            indexclasses += 1\n",
    "            X_pl = classifier['X+']\n",
    "            X_mi = classifier['X-']\n",
    "            alpha_pl = classifier['alpha+']\n",
    "            alpha_mi = classifier['alpha-']\n",
    "            bb = classifier['b']\n",
    "            \n",
    "            M_plus = X_pl.shape[0]\n",
    "            M_minus = X_mi.shape[0]\n",
    "            \n",
    "            for g in range(M_plus):\n",
    "                fx[:, indexclasses-1] = fx[:, indexclasses-1] + alpha_pl[g]*self.gaussian_kernel(X_pl[g, :], X).reshape(-1)\n",
    "            for g in range(M_minus):\n",
    "                fx[:, indexclasses-1] = fx[:, indexclasses-1] - alpha_mi[g]*self.gaussian_kernel(X_mi[g, :], X).reshape(-1)\n",
    "            \n",
    "            fx[:, indexclasses-1] = np.sign(fx[:, indexclasses-1] + bb)\n",
    "            fxij[:, indexclasses-1] = fx[:, indexclasses-1] \n",
    "            fx[:, indexclasses-1][fx[:, indexclasses-1]==1] = i\n",
    "            fx[:, indexclasses-1][fx[:, indexclasses-1]==-1] = j\n",
    "            fx[:, indexclasses-1][fx[:, indexclasses-1]==0] = 0\n",
    "\n",
    "\n",
    "        y_pred = np.apply_along_axis(lambda x: np.argmax(np.bincount(x.astype(int))), axis=1, arr=fx) # axis表示假如你是n×m维度，axis=0，表示在n方向上，axis=1，表示在m方向上\n",
    "        y_pred = y_pred.reshape(-1, 1)\n",
    "        self.predictData = np.concatenate((X, y_pred, fxij, fx), axis=1)\n",
    "        return y_pred\n",
    "    \n",
    "    def score(self, X, y):\n",
    "        y_pred = self.predict(X)\n",
    "        y = y.reshape(-1, 1)\n",
    "        accuray = np.sum(y_pred==y) / y.shape[0]\n",
    "        self.accuracy = accuray\n",
    "        return accuray\n",
    "              "
   ]
  },
  {
   "cell_type": "code",
   "execution_count": 14,
   "metadata": {},
   "outputs": [
    {
     "data": {
      "text/plain": [
       "\" #手搓数据集划分\\n\\nclasses = labels.unique()\\ntrainData = pd.DataFrame(data=None, index=None)\\ntestData = pd.DataFrame(data=None, index=None)\\n\\nfor i in classes:\\n    classData = data.loc[labels==i, :]\\n    numTrain = round(train_ratio*classData.shape[0]) # 训练集样本数\\n    indices = np.random.permutation(classData.shape[0])\\n    \\n    trainData = pd.concat([trainData, classData.iloc[indices[0:numTrain], :]])\\n    testData = pd.concat([testData, classData.iloc[indices[numTrain:], :]])\\n\\ntrainData.info\\ntestData.info                                            \\ntrainData.to_csv('trainData.csv', header=0, index=0, sep='\\t')\\ntestData.to_csv('testData.csv', header=0, index=0, sep='\\t') \""
      ]
     },
     "execution_count": 14,
     "metadata": {},
     "output_type": "execute_result"
    }
   ],
   "source": [
    "\"\"\" #手搓数据集划分\n",
    "\n",
    "classes = labels.unique()\n",
    "trainData = pd.DataFrame(data=None, index=None)\n",
    "testData = pd.DataFrame(data=None, index=None)\n",
    "\n",
    "for i in classes:\n",
    "    classData = data.loc[labels==i, :]\n",
    "    numTrain = round(train_ratio*classData.shape[0]) # 训练集样本数\n",
    "    indices = np.random.permutation(classData.shape[0])\n",
    "    \n",
    "    trainData = pd.concat([trainData, classData.iloc[indices[0:numTrain], :]])\n",
    "    testData = pd.concat([testData, classData.iloc[indices[numTrain:], :]])\n",
    "\n",
    "trainData.info\n",
    "testData.info                                            \n",
    "trainData.to_csv('trainData.csv', header=0, index=0, sep='\\t')\n",
    "testData.to_csv('testData.csv', header=0, index=0, sep='\\t') \"\"\""
   ]
  },
  {
   "cell_type": "code",
   "execution_count": 15,
   "metadata": {},
   "outputs": [],
   "source": [
    "\"\"\"# 网格搜索最佳sigma\n",
    "param_grid = {'sigma': (2 ** np.arange(-5, 5.5, 0.5)).tolist()}\n",
    "\n",
    "testmodel = NHCmodel()\n",
    "grid_search = GridSearchCV(testmodel, param_grid=param_grid, cv=5)\n",
    "\n",
    "grid_search.fit(Data, labels)\n",
    "sigma = grid_search.best_params_\n",
    "score = grid_search.best_score_\n",
    "print(sigma, score)\n",
    "\"\"\"\n",
    "\n",
    "sigma = 0.25"
   ]
  },
  {
   "cell_type": "code",
   "execution_count": 16,
   "metadata": {},
   "outputs": [
    {
     "name": "stderr",
     "output_type": "stream",
     "text": [
      "d:\\software\\Anaconda3\\lib\\site-packages\\scipy\\optimize\\_optimize.py:284: RuntimeWarning: Values in x were outside bounds during a minimize step, clipping to bounds\n",
      "  warnings.warn(\"Values in x were outside bounds during a \"\n",
      "d:\\software\\Anaconda3\\lib\\site-packages\\scipy\\optimize\\_optimize.py:284: RuntimeWarning: Values in x were outside bounds during a minimize step, clipping to bounds\n",
      "  warnings.warn(\"Values in x were outside bounds during a \"\n",
      "d:\\software\\Anaconda3\\lib\\site-packages\\scipy\\optimize\\_optimize.py:284: RuntimeWarning: Values in x were outside bounds during a minimize step, clipping to bounds\n",
      "  warnings.warn(\"Values in x were outside bounds during a \"\n"
     ]
    },
    {
     "data": {
      "text/plain": [
       "0"
      ]
     },
     "execution_count": 16,
     "metadata": {},
     "output_type": "execute_result"
    }
   ],
   "source": [
    "## 训练\n",
    "model = NHCmodel(sigma) # 必须有输入值！！\n",
    "model.fit(X_train_scaled, Y_train)"
   ]
  },
  {
   "cell_type": "code",
   "execution_count": 17,
   "metadata": {},
   "outputs": [],
   "source": [
    "# 测试\n",
    "Y_pred = model.predict(X_test_scaled)"
   ]
  },
  {
   "cell_type": "code",
   "execution_count": 18,
   "metadata": {},
   "outputs": [
    {
     "name": "stdout",
     "output_type": "stream",
     "text": [
      "F1 Score = 1.0\n",
      "Accuracy = 100.000 %\n"
     ]
    },
    {
     "data": {
      "image/png": "[encoded data removed]",
      "text/plain": [
       "<Figure size 640x480 with 2 Axes>"
      ]
     },
     "metadata": {},
     "output_type": "display_data"
    }
   ],
   "source": [
    "Accuracy = accuracy_score(Y_test, Y_pred)\n",
    "# accuracy = model.score(X_test_scaled, Y_test)\n",
    "test_confu_matrix = confusion_matrix(Y_test, Y_pred)\n",
    "\"\"\" fault_type = ['C1','C2','C3','C4','C5','C6','C7','C8','C9','C10'] \"\"\"\n",
    "fault_type = ['C1','C2','C5']\n",
    "sns.heatmap(test_confu_matrix, annot= True,fmt = \"d\",\n",
    "xticklabels=fault_type, yticklabels=fault_type, cmap = \"Blues\")\n",
    "plt.xlabel('Predicted Class')\n",
    "plt.ylabel('True Class')\n",
    "plt.ylabel('True')\n",
    "F1_score = f1_score(Y_test, Y_pred,average='micro')\n",
    "\n",
    "print(\"F1 Score =\", F1_score)\n",
    "print(\"Accuracy = %.3f\" % (Accuracy*100), \"%\")\n"
   ]
  },
  {
   "cell_type": "code",
   "execution_count": 19,
   "metadata": {},
   "outputs": [],
   "source": [
    "# 多工况测试\n",
    "# 创建其余工况数据\n",
    "ceshi_1 = '1730_12k_DE_BallFault_0.007/*';  ceshi_2 = '1730_12k_DE_IRFault_0.007/*';   ceshi_3 = '1772_12k_DE_BallFault_0.007/*';   \n",
    "ceshi_4 = '1772_12k_DE_IRFault_0.007/*';    ceshi_5 = '1797_12k_DE_BallFault_0.007/*'; ceshi_6 = '1797_12k_DE_IRFault_0.007/*';\n",
    "\n",
    "\n",
    "\"\"\" ceshi_defc1, ceshi_y_defc1 = make_dataset(os.path.join(data_path, ceshi_1), num_samples, 5) \"\"\"\n",
    "ceshi_defc2, ceshi_y_defc2 = make_dataset(os.path.join(data_path, ceshi_2), num_samples, 2)\n",
    "ceshi_defc3, ceshi_y_defc3 = make_dataset(os.path.join(data_path, ceshi_3), num_samples, 5) \n",
    "ceshi_defc4, ceshi_y_defc4 = make_dataset(os.path.join(data_path, ceshi_4), num_samples, 2)\n",
    "\"\"\" ceshi_defc5, ceshi_y_defc5 = make_dataset(os.path.join(data_path, ceshi_5), num_samples, 5) \"\"\"\n",
    "ceshi_defc6, ceshi_y_defc6 = make_dataset(os.path.join(data_path, ceshi_6), num_samples, 2) \n",
    "\n",
    "ceshi_X = np.concatenate(( ceshi_defc2, ceshi_defc3, ceshi_defc4,  ceshi_defc6), axis=0, out=None)\n",
    "ceshi_Y = np.concatenate(( ceshi_y_defc2, ceshi_y_defc3, ceshi_y_defc4, ceshi_y_defc6), axis=0, out=None)\n"
   ]
  },
  {
   "cell_type": "code",
   "execution_count": 20,
   "metadata": {},
   "outputs": [],
   "source": [
    "wavelet_function = \"db4\"\n",
    "num_levels = 3 # \n",
    "m = 1 # \n",
    "\n",
    "num_features = 2**num_levels\n",
    "ceshi_features = np.repeat(np.nan, len(ceshi_X)*m*num_features).reshape(len(ceshi_X),m*num_features)\n",
    "\n",
    "for i in range(len(ceshi_X)):    \n",
    "    wp = pywt.WaveletPacket(ceshi_X[i], wavelet = wavelet_function, maxlevel = num_levels) # Wavelet packet transformation\n",
    "    packet_names = [node.path for node in wp.get_level(num_levels, \"natural\")]\n",
    "    for j in range(num_features):\n",
    "        new_wp = pywt.WaveletPacket(data = None, wavelet = wavelet_function, maxlevel = num_levels)\n",
    "        new_wp[packet_names[j]] = wp[packet_names[j]].data\n",
    "        reconstructed_signal = new_wp.reconstruct(update = False) # Signal reconstruction from wavelet packet coefficients\n",
    "        f, c = apply_fft(reconstructed_signal, fs, len(reconstructed_signal))\n",
    "        z = abs(c)\n",
    "        \n",
    "        maximal_idx = np.argpartition(z, -m)[-m:]\n",
    "        high_amp = z[maximal_idx]\n",
    "        high_freq = f[maximal_idx]\n",
    "        feature = high_amp*high_freq\n",
    "        \n",
    "        l = 0\n",
    "        for f in feature:\n",
    "            ceshi_features[i,j*m+l] = f\n",
    "            l = l+1\n",
    "            \n",
    "ceshi_labels = pd.Categorical(ceshi_Y)"
   ]
  },
  {
   "cell_type": "code",
   "execution_count": 21,
   "metadata": {},
   "outputs": [],
   "source": [
    "ceshi_X_scaled = scaler.transform(ceshi_features)"
   ]
  },
  {
   "cell_type": "code",
   "execution_count": 22,
   "metadata": {},
   "outputs": [],
   "source": [
    "Multi_envpred = NHCmodel(sigma)\n",
    "\n",
    "with open('classifiers.pkl', 'rb') as f:\n",
    "    Multi_envpred.classifiers = pickle.load(f)\n",
    "with open('classes.pkl', 'rb') as f:\n",
    "    Multi_envpred.classes = pickle.load(f)\n",
    "    \n",
    "ceshi_Y_pred = Multi_envpred.predict(ceshi_X_scaled)"
   ]
  },
  {
   "cell_type": "code",
   "execution_count": 23,
   "metadata": {},
   "outputs": [
    {
     "name": "stdout",
     "output_type": "stream",
     "text": [
      "测试Accuracy = 88.642 %\n"
     ]
    }
   ],
   "source": [
    "ceshi_Accuracy = accuracy_score(ceshi_Y, ceshi_Y_pred)\n",
    "# accuracy = model.score(X_test_scaled, Y_test)\n",
    "\n",
    "print(\"测试Accuracy = %.3f\" % (ceshi_Accuracy*100), \"%\")"
   ]
  },
  {
   "cell_type": "markdown",
   "metadata": {},
   "source": []
  }
 ],
 "metadata": {
  "kernelspec": {
   "display_name": "base",
   "language": "python",
   "name": "python3"
  },
  "language_info": {
   "codemirror_mode": {
    "name": "ipython",
    "version": 3
   },
   "file_extension": ".py",
   "mimetype": "text/x-python",
   "name": "python",
   "nbconvert_exporter": "python",
   "pygments_lexer": "ipython3",
   "version": "3.9.13"
  },
  "orig_nbformat": 4
 },
 "nbformat": 4,
 "nbformat_minor": 2
}
